{
 "cells": [
  {
   "cell_type": "markdown",
   "metadata": {},
   "source": [
    "<img src='https://radiant-assets.s3-us-west-2.amazonaws.com/PrimaryRadiantMLHubLogo.png' alt='Radiant MLHub Logo' width='300'/>\n",
    "\n",
    "# NN y CNN"
   ]
  },
  {
   "cell_type": "markdown",
   "metadata": {},
   "source": [
    "## Introducción"
   ]
  },
  {
   "cell_type": "markdown",
   "metadata": {},
   "source": [
    "Este notebook tiene el objetivo de implementar un modelo de clasificación de cultivos mediante imágenes satelitales proporcionada por el satélite Sentinel-2. La estrategia utilizada se basa en el [paper](http://cs229.stanford.edu/proj2017/final-reports/5243811.pdf), sugerido por Rose M. Rustowicz.\n",
    "\n",
    "A modo de resumen, el paper plantea la siguiente estrategia: Debido a las cada vez mayor cantidad de empresas aeroespaciales que proporcionan imágenes ***diarias*** con una resolución espacial relativamente alta, permiten incorporar al análisis de imágenes satelitales, ***información temporal***. Teniendo en cuenta que para algunas clases de cobertura terrestre, como los cultivos, muestran que las propiedades de la cubierta terrestre cambian con el tiempo, es decir los tipos de cultivos tienen ciclos de crecimiento, la temporalidad puede ser crucial para cuando nos enfrentamos a problemas de clasificación de cultvios.\n",
    "\n",
    "Por lo tanto, teniendo en cuenta lo descripto anteriormente, en éste notebook implemento dos tipos de modelos, a partir de los datos multi-spectrales y multi-temporales de los cultivos. Aclarar que en éste método no se tiene encuenta ningún otro preprocesamiento de datos, cómo es el cálculo de índices de vegetación, etc:\n",
    "\n",
    "- Red Neuronal (NN).\n",
    "- Red neuronal convolucional (CNN).\n",
    "\n",
    "Para el desarrollo de éste notebook, he creado un entorno en Anaconda con las siguientes carcaterísticas:\n",
    "\n",
    "- dependencies:\n",
    "    - keras\n",
    "    - scikit-learn==0.21.2\n",
    "    - imbalanced-learn"
   ]
  },
  {
   "cell_type": "code",
   "execution_count": 1,
   "metadata": {},
   "outputs": [
    {
     "name": "stderr",
     "output_type": "stream",
     "text": [
      "C:\\apps\\instaladores\\Anaconda3\\envs\\pec_tcaa\\lib\\site-packages\\tensorflow\\python\\framework\\dtypes.py:526: FutureWarning: Passing (type, 1) or '1type' as a synonym of type is deprecated; in a future version of numpy, it will be understood as (type, (1,)) / '(1,)type'.\n",
      "  _np_qint8 = np.dtype([(\"qint8\", np.int8, 1)])\n",
      "C:\\apps\\instaladores\\Anaconda3\\envs\\pec_tcaa\\lib\\site-packages\\tensorflow\\python\\framework\\dtypes.py:527: FutureWarning: Passing (type, 1) or '1type' as a synonym of type is deprecated; in a future version of numpy, it will be understood as (type, (1,)) / '(1,)type'.\n",
      "  _np_quint8 = np.dtype([(\"quint8\", np.uint8, 1)])\n",
      "C:\\apps\\instaladores\\Anaconda3\\envs\\pec_tcaa\\lib\\site-packages\\tensorflow\\python\\framework\\dtypes.py:528: FutureWarning: Passing (type, 1) or '1type' as a synonym of type is deprecated; in a future version of numpy, it will be understood as (type, (1,)) / '(1,)type'.\n",
      "  _np_qint16 = np.dtype([(\"qint16\", np.int16, 1)])\n",
      "C:\\apps\\instaladores\\Anaconda3\\envs\\pec_tcaa\\lib\\site-packages\\tensorflow\\python\\framework\\dtypes.py:529: FutureWarning: Passing (type, 1) or '1type' as a synonym of type is deprecated; in a future version of numpy, it will be understood as (type, (1,)) / '(1,)type'.\n",
      "  _np_quint16 = np.dtype([(\"quint16\", np.uint16, 1)])\n",
      "C:\\apps\\instaladores\\Anaconda3\\envs\\pec_tcaa\\lib\\site-packages\\tensorflow\\python\\framework\\dtypes.py:530: FutureWarning: Passing (type, 1) or '1type' as a synonym of type is deprecated; in a future version of numpy, it will be understood as (type, (1,)) / '(1,)type'.\n",
      "  _np_qint32 = np.dtype([(\"qint32\", np.int32, 1)])\n",
      "C:\\apps\\instaladores\\Anaconda3\\envs\\pec_tcaa\\lib\\site-packages\\tensorflow\\python\\framework\\dtypes.py:535: FutureWarning: Passing (type, 1) or '1type' as a synonym of type is deprecated; in a future version of numpy, it will be understood as (type, (1,)) / '(1,)type'.\n",
      "  np_resource = np.dtype([(\"resource\", np.ubyte, 1)])\n",
      "Using TensorFlow backend.\n"
     ]
    }
   ],
   "source": [
    "# Import NumPy for some statistics\n",
    "import numpy as np\n",
    "import pandas as pd\n",
    "import tensorflow\n",
    "import keras\n",
    "from keras.models import Sequential\n",
    "from keras.layers import Dense, Activation, Conv1D, MaxPooling1D, Flatten\n",
    "from sklearn.metrics import confusion_matrix, precision_score, recall_score,balanced_accuracy_score,accuracy_score\n",
    "from sklearn.metrics import accuracy_score,balanced_accuracy_score,classification_report, f1_score\n",
    "import pandas\n",
    "from keras.models import Sequential\n",
    "from keras.layers import Dense\n",
    "from keras.wrappers.scikit_learn import KerasClassifier\n",
    "from keras.utils import np_utils\n",
    "from sklearn.model_selection import cross_val_score\n",
    "from sklearn.model_selection import KFold\n",
    "from sklearn.preprocessing import LabelEncoder\n",
    "from sklearn.pipeline import Pipeline\n",
    "from sklearn.model_selection import train_test_split\n",
    "from keras.layers import Dense, Dropout, Activation\n",
    "from keras.optimizers import SGD\n",
    "import numpy\n",
    "import pandas\n",
    "from keras.models import Sequential\n",
    "from keras.layers import Dense\n",
    "from keras.wrappers.scikit_learn import KerasClassifier\n",
    "from keras.utils import np_utils\n",
    "from sklearn.model_selection import cross_val_score\n",
    "from sklearn.model_selection import KFold\n",
    "from sklearn.preprocessing import LabelEncoder\n",
    "from sklearn.pipeline import Pipeline\n",
    "from keras import regularizers\n",
    "from keras import initializers\n",
    "import matplotlib.pyplot as plt\n",
    "import collections"
   ]
  },
  {
   "cell_type": "code",
   "execution_count": 2,
   "metadata": {},
   "outputs": [],
   "source": [
    "df = pd.read_csv(\"df_complete.csv\")"
   ]
  },
  {
   "cell_type": "code",
   "execution_count": 3,
   "metadata": {},
   "outputs": [],
   "source": [
    "### Preprocesamiento de datos"
   ]
  },
  {
   "cell_type": "code",
   "execution_count": 4,
   "metadata": {},
   "outputs": [
    {
     "data": {
      "text/plain": [
       "4    2133\n",
       "7    1220\n",
       "2    1037\n",
       "1     767\n",
       "6     684\n",
       "5     503\n",
       "3     474\n",
       "8     209\n",
       "9     147\n",
       "Name: label, dtype: int64"
      ]
     },
     "execution_count": 4,
     "metadata": {},
     "output_type": "execute_result"
    }
   ],
   "source": [
    "#Observamos la cantidad de cultivos que tenmos por cada tipo\n",
    "df['label'].value_counts()"
   ]
  },
  {
   "cell_type": "code",
   "execution_count": 5,
   "metadata": {},
   "outputs": [
    {
     "data": {
      "image/png": "[encoded data removed]",
      "text/plain": [
       "<Figure size 432x288 with 1 Axes>"
      ]
     },
     "metadata": {
      "needs_background": "light"
     },
     "output_type": "display_data"
    }
   ],
   "source": [
    "count_labels = pd.value_counts(df['label'], sort = True)\n",
    "count_labels.plot(kind = 'bar', rot=0)\n",
    "plt.title(\"Frecuencia por número de observación\")\n",
    "plt.xlabel(\"Label\")\n",
    "plt.ylabel(\"Número de Observaciones\");"
   ]
  },
  {
   "cell_type": "markdown",
   "metadata": {},
   "source": [
    "- #### Nota:\n",
    "- Se observa un cierto desbalanceo de los cultivos a estudiar.\n",
    "- ***Primera opción***, se ejcutan los modelos (NN, CNN), sin tener en cuenta éste desbalanceo en las clases.\n",
    "- ***Segunda opción***, se crean muestras sintéticas sólo para el cultivo minoritario (en nuestro caso el tipo 3), a través del modelo ***SMOTE***.\n",
    "****PENDIENTE REVISARRRRRRRRRRRRRR****"
   ]
  },
  {
   "cell_type": "code",
   "execution_count": 6,
   "metadata": {},
   "outputs": [
    {
     "name": "stdout",
     "output_type": "stream",
     "text": [
      "Empty DataFrame\n",
      "Columns: []\n",
      "Index: []\n"
     ]
    }
   ],
   "source": [
    "#Verificamos si hay valores nulos\n",
    "null_columns=df.columns[df.isnull().any()]\n",
    "df[null_columns].isnull().sum()\n",
    "print(df[df.isnull().any(axis=1)][null_columns].head())"
   ]
  },
  {
   "cell_type": "code",
   "execution_count": 7,
   "metadata": {},
   "outputs": [],
   "source": [
    "bands=['B01', 'B02', 'B03', 'B04', 'B05','B06', 'B07', 'B08', 'B09', 'B11', 'B12', 'B8A']\n",
    "bands=['NDVI', 'SLAVI', 'MSI', 'NDRE', 'Brightness', 'Greeness', 'Wetness']\n",
    "#bands=['B01', 'B05','B06', 'B07', 'B08', 'B09', 'B11', 'NDVI', 'SLAVI', 'MSI', 'NDRE','B12', 'Brightness', 'Greeness', 'Wetness']\n",
    "df_tmp=df.copy()\n",
    "for band in bands:\n",
    "    df_tmp.drop(df_tmp.filter(regex='.'+band).columns, axis=1,inplace=True)\n",
    "df=df_tmp.copy()"
   ]
  },
  {
   "cell_type": "markdown",
   "metadata": {},
   "source": [
    "- #### Nota:\n",
    "A continuación comenzamos a filtrar las variables que me interesan para el análisis"
   ]
  },
  {
   "cell_type": "code",
   "execution_count": 8,
   "metadata": {},
   "outputs": [],
   "source": [
    "unwanted =['field_id','label']\n",
    "features = list(df.columns)\n",
    "features = [e for e in features if e not in unwanted]"
   ]
  },
  {
   "cell_type": "markdown",
   "metadata": {},
   "source": [
    "### Preparación DataSet\n",
    "\n",
    "Se prepara el dataset final con el cual se entrenará los modelos propuestos"
   ]
  },
  {
   "cell_type": "code",
   "execution_count": 9,
   "metadata": {},
   "outputs": [],
   "source": [
    "labels = df['label']"
   ]
  },
  {
   "cell_type": "code",
   "execution_count": 10,
   "metadata": {},
   "outputs": [],
   "source": [
    "data = df[features].copy()\n",
    "#data = data.loc[:,data.columns.str.contains('_mean')]\n",
    "#data = data.loc[:, ~data.columns.str.contains('SCL')]"
   ]
  },
  {
   "cell_type": "code",
   "execution_count": 11,
   "metadata": {},
   "outputs": [
    {
     "data": {
      "text/plain": [
       "(7174, 456)"
      ]
     },
     "execution_count": 11,
     "metadata": {},
     "output_type": "execute_result"
    }
   ],
   "source": [
    "data.shape"
   ]
  },
  {
   "cell_type": "code",
   "execution_count": 12,
   "metadata": {},
   "outputs": [
    {
     "data": {
      "text/plain": [
       "Index(['20170401_B01', '20170411_B01', '20170421_B01', '20170501_B01',\n",
       "       '20170511_B01', '20170521_B01', '20170531_B01', '20170610_B01',\n",
       "       '20170620_B01', '20170630_B01',\n",
       "       ...\n",
       "       '20171013_B12', '20171018_B12', '20171023_B12', '20171028_B12',\n",
       "       '20171102_B12', '20171107_B12', '20171112_B12', '20171117_B12',\n",
       "       '20171122_B12', '20171127_B12'],\n",
       "      dtype='object', length=456)"
      ]
     },
     "execution_count": 12,
     "metadata": {},
     "output_type": "execute_result"
    }
   ],
   "source": [
    "data.columns"
   ]
  },
  {
   "cell_type": "code",
   "execution_count": 13,
   "metadata": {},
   "outputs": [],
   "source": [
    "def plot_confusion_matrix(cm, classes,\n",
    "                          normalize=False,\n",
    "                          title='Matriz Confusión',\n",
    "                          cmap=plt.cm.Blues):\n",
    "    \"\"\"\n",
    "    This function prints and plots the confusion matrix.\n",
    "    Normalization can be applied by setting `normalize=True`.\n",
    "    \"\"\"\n",
    "    import itertools\n",
    "    if normalize:\n",
    "        cm = cm.astype('float') / cm.sum(axis=1)[:, np.newaxis]\n",
    "        print(\"Normalized confusion matrix\")\n",
    "    #else:\n",
    "        #print('Confusion matrix, without normalization')\n",
    "        \n",
    "    plt.imshow(cm, interpolation='nearest', cmap=cmap)\n",
    "    plt.title(title)\n",
    "    plt.colorbar()\n",
    "    tick_marks = np.arange(len(classes))\n",
    "    plt.xticks(tick_marks, classes, rotation=45)\n",
    "    plt.yticks(tick_marks, classes)\n",
    "\n",
    "    fmt = '.2f' if normalize else 'd'\n",
    "    thresh = cm.max() / 2.\n",
    "    for i, j in itertools.product(range(cm.shape[0]), range(cm.shape[1])):\n",
    "        plt.text(j, i, format(cm[i, j], fmt),\n",
    "                 horizontalalignment=\"center\",\n",
    "                 color=\"white\" if cm[i, j] > thresh else \"black\")\n",
    "\n",
    "    plt.ylabel('True label')\n",
    "    plt.xlabel('Predicted label')\n",
    "    plt.tight_layout()"
   ]
  },
  {
   "cell_type": "code",
   "execution_count": 14,
   "metadata": {},
   "outputs": [],
   "source": [
    "l_modelo=[]\n",
    "l_exactitud=[]\n",
    "l_bexactitud=[]\n",
    "l_precision=[]\n",
    "l_exhaustividad=[]\n",
    "l_f1=[]\n",
    "#Función que nos permite representar las métricas\n",
    "def metricas_modelos(modelo,y_true, y_pred, labels):\n",
    "    cm = confusion_matrix(y_true, y_pred)\n",
    "\n",
    "    #print(u'Matriz de confusión:')\n",
    "    #print(cm)\n",
    "\n",
    "    print(\"-----Métricas------\")\n",
    "    print(u'Número de muestras clasificadas correctamente:', accuracy_score(y_true, y_pred, normalize=False))\n",
    "    print(u'Exactitud:', accuracy_score(y_true, y_pred))\n",
    "    print(\"Balance Accuracy score:\",balanced_accuracy_score(y_true, y_pred))\n",
    "    print(u'Precision:', precision_score(y_true, y_pred,average='weighted'))\n",
    "    print(u'Exhaustividad:', recall_score(y_true, y_pred,average='weighted'))\n",
    "    print(u'F1:', f1_score(y_true, y_pred,average='weighted'))\n",
    "    print(\"-------------------\")\n",
    "    print(classification_report(y_true, y_pred))\n",
    "    \n",
    "    # Plot non-normalized confusion matrix\n",
    "    plt.figure()\n",
    "    plot_confusion_matrix(cm, classes=labels)\n",
    "    \n",
    "    l_modelo.append(modelo)\n",
    "    l_exactitud.append(accuracy_score(y_true, y_pred)*100)\n",
    "    l_bexactitud.append(balanced_accuracy_score(y_true, y_pred)*100)\n",
    "    l_precision.append(precision_score(y_true, y_pred,average='weighted')*100)\n",
    "    l_exhaustividad.append(recall_score(y_true, y_pred,average='weighted')*100)\n",
    "    l_f1.append(f1_score(y_true, y_pred,average='weighted')*100)"
   ]
  },
  {
   "cell_type": "markdown",
   "metadata": {},
   "source": [
    "- #### Nota:\n",
    "Split de los datos con lo que voy a entrenar y testear los diferentes modelos de éste notebook, 70%: entrenamiento y 30% test."
   ]
  },
  {
   "cell_type": "code",
   "execution_count": 15,
   "metadata": {},
   "outputs": [],
   "source": [
    "X_train, X_test, y_train, y_test = train_test_split(data, labels, test_size=0.30,shuffle = True,stratify=labels)#, random_state=42"
   ]
  },
  {
   "cell_type": "code",
   "execution_count": 16,
   "metadata": {},
   "outputs": [
    {
     "data": {
      "text/plain": [
       "((5021,), (2153,))"
      ]
     },
     "execution_count": 16,
     "metadata": {},
     "output_type": "execute_result"
    }
   ],
   "source": [
    "y_train.shape,y_test.shape"
   ]
  },
  {
   "cell_type": "markdown",
   "metadata": {},
   "source": [
    "#### Escalado Estándard:\n",
    "\n",
    "Escalamos/Normalizamos el conjunto de datos antes de utilizarlos en los diferentes modelos. Es una buena práctica, para que los valores de las diferentes variables se encuentren en un mismo rango y de esta manera no influya una más que otra al momento de entrenar los modelos propuestos.\n",
    "Este escalado, utiliza la media y la desviación típica para escalar y es bastante sensible en presencia de los outlier (humo/nubes) identificados. De todos modo ha sido el escalado que me ha dado mejor resultado por eso lo he seleccionado. En el método 3 propuesto, utilizaré técnicas para \"suavizar\" la presencia de nubes previamanete escalar. En el método actual obviaremos éste razonamiento."
   ]
  },
  {
   "cell_type": "code",
   "execution_count": 17,
   "metadata": {},
   "outputs": [],
   "source": [
    "from sklearn.preprocessing import StandardScaler\n",
    "sc_X = StandardScaler()\n",
    "X_train = sc_X.fit_transform(X_train)\n",
    "X_test = sc_X.transform(X_test)"
   ]
  },
  {
   "cell_type": "markdown",
   "metadata": {},
   "source": [
    "##### Over and Undersampling\n",
    "\n",
    "Combined used of SMOTE and ENN or Tomek Links to amplify the minority class and remove noisy observations that might be created."
   ]
  },
  {
   "cell_type": "code",
   "execution_count": 18,
   "metadata": {},
   "outputs": [],
   "source": [
    "from imblearn.under_sampling import (\n",
    "    RandomUnderSampler,\n",
    "    CondensedNearestNeighbour,\n",
    "    TomekLinks,\n",
    "    OneSidedSelection,\n",
    "    EditedNearestNeighbours,\n",
    "    RepeatedEditedNearestNeighbours,\n",
    "    AllKNN,\n",
    "    NeighbourhoodCleaningRule,\n",
    "    NearMiss,\n",
    "    InstanceHardnessThreshold\n",
    ")\n",
    "from imblearn.over_sampling import (\n",
    "    RandomOverSampler,\n",
    "    SMOTE,\n",
    "    ADASYN,\n",
    "    BorderlineSMOTE,\n",
    "    SVMSMOTE,\n",
    ")"
   ]
  },
  {
   "cell_type": "code",
   "execution_count": 19,
   "metadata": {},
   "outputs": [],
   "source": [
    "from imblearn.combine import SMOTEENN, SMOTETomek\n",
    "sm = SMOTE(\n",
    "    sampling_strategy='auto',  # samples only the minority class\n",
    "    random_state=0,  # for reproducibility\n",
    "    k_neighbors=5,\n",
    "    n_jobs=-1\n",
    ")\n",
    "\n",
    "# need ENN  as argument of SMOTEENN\n",
    "enn = EditedNearestNeighbours(\n",
    "    sampling_strategy='auto',\n",
    "    n_neighbors=3,\n",
    "    kind_sel='all',\n",
    "    n_jobs=-1)\n",
    "\n",
    "smenn = SMOTEENN(\n",
    "    sampling_strategy='auto',  # samples only the minority class\n",
    "    random_state=0,  # for reproducibility\n",
    "    smote=sm,\n",
    "    enn=enn,\n",
    "    n_jobs=-1\n",
    ")\n",
    "\n",
    "allknn = AllKNN(sampling_strategy='auto',\n",
    "        n_neighbors=5,\n",
    "        kind_sel='all',\n",
    "        n_jobs=-1)\n",
    "\n",
    "#X_train, y_train = allknn.fit_resample(X_train, y_train) #under-samling\n",
    "X_train, y_train = sm.fit_resample(X_train, y_train) #over-samling\n",
    "#X_train, y_train = smenn.fit_resample(X_train, y_train)#over & under-samling"
   ]
  },
  {
   "cell_type": "code",
   "execution_count": 20,
   "metadata": {},
   "outputs": [
    {
     "name": "stdout",
     "output_type": "stream",
     "text": [
      "(13437, 456) (13437,)\n"
     ]
    },
    {
     "data": {
      "text/plain": [
       "7    1493\n",
       "6    1493\n",
       "5    1493\n",
       "4    1493\n",
       "3    1493\n",
       "2    1493\n",
       "9    1493\n",
       "1    1493\n",
       "8    1493\n",
       "dtype: int64"
      ]
     },
     "execution_count": 20,
     "metadata": {},
     "output_type": "execute_result"
    }
   ],
   "source": [
    "print(X_train.shape, y_train.shape)\n",
    "pd.value_counts(y_train, sort = True)"
   ]
  },
  {
   "cell_type": "code",
   "execution_count": 21,
   "metadata": {},
   "outputs": [
    {
     "data": {
      "image/png": "[encoded data removed]",
      "text/plain": [
       "<Figure size 432x288 with 1 Axes>"
      ]
     },
     "metadata": {
      "needs_background": "light"
     },
     "output_type": "display_data"
    }
   ],
   "source": [
    "count_labels = pd.value_counts(y_train, sort = True)\n",
    "count_labels.plot(kind = 'bar', rot=0)\n",
    "plt.title(\"Frequency by observation number\")\n",
    "plt.xlabel(\"Label\")\n",
    "plt.ylabel(\"Number of Observations\");"
   ]
  },
  {
   "cell_type": "code",
   "execution_count": 22,
   "metadata": {},
   "outputs": [],
   "source": [
    "#creación de variables dummy que representan las clases de cultivos: 1,2,3,4,5,6,7,8,9\n",
    "n_classes=9\n",
    "# encode class values as integers\n",
    "encoder = LabelEncoder()"
   ]
  },
  {
   "cell_type": "code",
   "execution_count": 23,
   "metadata": {},
   "outputs": [],
   "source": [
    "encoder.fit(labels.to_numpy())\n",
    "encoded_Y = encoder.transform(y_train)\n",
    "# Converimos valores integers a variables dummy (one hot encoded)\n",
    "y_train = keras.utils.to_categorical(encoded_Y,num_classes=n_classes) #np_utils.to_categorical(encoded_Y)"
   ]
  },
  {
   "cell_type": "code",
   "execution_count": 24,
   "metadata": {},
   "outputs": [],
   "source": [
    "encoder.fit(labels.to_numpy())\n",
    "encoded_Y = encoder.transform(y_test)\n",
    "# Converimos valores integers a variables dummy (one hot encoded)\n",
    "y_test = keras.utils.to_categorical(encoded_Y,num_classes=n_classes) #np_utils.to_categorical(encoded_Y)"
   ]
  },
  {
   "cell_type": "code",
   "execution_count": 25,
   "metadata": {},
   "outputs": [
    {
     "data": {
      "text/plain": [
       "((13437, 9), (2153, 9))"
      ]
     },
     "execution_count": 25,
     "metadata": {},
     "output_type": "execute_result"
    }
   ],
   "source": [
    "y_train.shape,y_test.shape"
   ]
  },
  {
   "cell_type": "markdown",
   "metadata": {},
   "source": [
    "### Red Neuronal"
   ]
  },
  {
   "cell_type": "code",
   "execution_count": 26,
   "metadata": {},
   "outputs": [
    {
     "name": "stdout",
     "output_type": "stream",
     "text": [
      "WARNING:tensorflow:From C:\\apps\\instaladores\\Anaconda3\\envs\\pec_tcaa\\lib\\site-packages\\tensorflow\\python\\ops\\resource_variable_ops.py:435: colocate_with (from tensorflow.python.framework.ops) is deprecated and will be removed in a future version.\n",
      "Instructions for updating:\n",
      "Colocations handled automatically by placer.\n",
      "Model: \"sequential_1\"\n",
      "_________________________________________________________________\n",
      "Layer (type)                 Output Shape              Param #   \n",
      "=================================================================\n",
      "dense_1 (Dense)              (None, 200)               91400     \n",
      "_________________________________________________________________\n",
      "dropout_1 (Dropout)          (None, 200)               0         \n",
      "_________________________________________________________________\n",
      "dense_2 (Dense)              (None, 100)               20100     \n",
      "_________________________________________________________________\n",
      "dropout_2 (Dropout)          (None, 100)               0         \n",
      "_________________________________________________________________\n",
      "dense_3 (Dense)              (None, 9)                 909       \n",
      "=================================================================\n",
      "Total params: 112,409\n",
      "Trainable params: 112,409\n",
      "Non-trainable params: 0\n",
      "_________________________________________________________________\n"
     ]
    }
   ],
   "source": [
    "# fix random seed for reproducibility\n",
    "seed = 7\n",
    "numpy.random.seed(seed)\n",
    "\n",
    "model = Sequential()\n",
    "model.add(Dense(200, input_shape=(456, ), activation='relu',kernel_regularizer=regularizers.l2(1e-5),kernel_initializer=keras.initializers.glorot_normal(seed=seed),bias_initializer='zeros'))\n",
    "model.add(Dropout(20))\n",
    "model.add(Dense(100))\n",
    "model.add(Dropout(10))\n",
    "model.add(Dense(n_classes, activation='softmax'))\n",
    "model.summary()"
   ]
  },
  {
   "cell_type": "code",
   "execution_count": 27,
   "metadata": {},
   "outputs": [],
   "source": [
    "sgd = keras.optimizers.Adam() #keras.optimizers.Adadelta()\n",
    "model.compile(loss='categorical_crossentropy',\n",
    "              optimizer=sgd,\n",
    "              metrics=['acc'])"
   ]
  },
  {
   "cell_type": "code",
   "execution_count": 28,
   "metadata": {},
   "outputs": [
    {
     "name": "stdout",
     "output_type": "stream",
     "text": [
      "WARNING:tensorflow:From C:\\apps\\instaladores\\Anaconda3\\envs\\pec_tcaa\\lib\\site-packages\\tensorflow\\python\\ops\\math_ops.py:3066: to_int32 (from tensorflow.python.ops.math_ops) is deprecated and will be removed in a future version.\n",
      "Instructions for updating:\n",
      "Use tf.cast instead.\n",
      "Train on 10749 samples, validate on 2688 samples\n",
      "Epoch 1/50\n",
      "10749/10749 [==============================] - 1s 119us/step - loss: 1.1146 - acc: 0.6268 - val_loss: 2.0261 - val_acc: 0.3147\n",
      "Epoch 2/50\n",
      "10749/10749 [==============================] - 1s 104us/step - loss: 0.8274 - acc: 0.7283 - val_loss: 1.5119 - val_acc: 0.4066\n",
      "Epoch 3/50\n",
      "10749/10749 [==============================] - 1s 101us/step - loss: 0.7037 - acc: 0.7680 - val_loss: 2.0694 - val_acc: 0.4059\n",
      "Epoch 4/50\n",
      "10749/10749 [==============================] - 1s 107us/step - loss: 0.6147 - acc: 0.7974 - val_loss: 1.3614 - val_acc: 0.5082\n",
      "Epoch 5/50\n",
      "10749/10749 [==============================] - 1s 102us/step - loss: 0.5468 - acc: 0.8224 - val_loss: 1.3252 - val_acc: 0.6257\n",
      "Epoch 6/50\n",
      "10749/10749 [==============================] - 1s 119us/step - loss: 0.5094 - acc: 0.8328 - val_loss: 1.5817 - val_acc: 0.5625\n",
      "Epoch 7/50\n",
      "10749/10749 [==============================] - 1s 122us/step - loss: 0.4713 - acc: 0.8486 - val_loss: 1.0678 - val_acc: 0.6276\n",
      "Epoch 8/50\n",
      "10749/10749 [==============================] - 1s 107us/step - loss: 0.4238 - acc: 0.8632 - val_loss: 0.9453 - val_acc: 0.7065\n",
      "Epoch 9/50\n",
      "10749/10749 [==============================] - 1s 103us/step - loss: 0.3926 - acc: 0.8726 - val_loss: 0.4148 - val_acc: 0.8571\n",
      "Epoch 10/50\n",
      "10749/10749 [==============================] - 1s 110us/step - loss: 0.3739 - acc: 0.8819 - val_loss: 0.8132 - val_acc: 0.7355\n",
      "Epoch 11/50\n",
      "10749/10749 [==============================] - 1s 104us/step - loss: 0.3720 - acc: 0.8823 - val_loss: 1.1862 - val_acc: 0.6287\n",
      "Epoch 12/50\n",
      "10749/10749 [==============================] - 1s 103us/step - loss: 0.3107 - acc: 0.9032 - val_loss: 0.3734 - val_acc: 0.8880\n",
      "Epoch 13/50\n",
      "10749/10749 [==============================] - 1s 105us/step - loss: 0.2907 - acc: 0.9081 - val_loss: 0.6445 - val_acc: 0.7645\n",
      "Epoch 14/50\n",
      "10749/10749 [==============================] - 1s 104us/step - loss: 0.3012 - acc: 0.9067 - val_loss: 0.4849 - val_acc: 0.8382\n",
      "Epoch 15/50\n",
      "10749/10749 [==============================] - 1s 114us/step - loss: 0.3012 - acc: 0.9084 - val_loss: 0.6368 - val_acc: 0.7850\n",
      "Epoch 16/50\n",
      "10749/10749 [==============================] - 1s 114us/step - loss: 0.2555 - acc: 0.9196 - val_loss: 0.4314 - val_acc: 0.8553\n",
      "Epoch 17/50\n",
      "10749/10749 [==============================] - 1s 131us/step - loss: 0.2548 - acc: 0.9228 - val_loss: 0.6731 - val_acc: 0.7831\n",
      "Epoch 18/50\n",
      "10749/10749 [==============================] - 1s 104us/step - loss: 0.2364 - acc: 0.9223 - val_loss: 0.2420 - val_acc: 0.9368\n",
      "Epoch 19/50\n",
      "10749/10749 [==============================] - 1s 104us/step - loss: 0.2270 - acc: 0.9308 - val_loss: 0.4506 - val_acc: 0.8330\n",
      "Epoch 20/50\n",
      "10749/10749 [==============================] - 1s 105us/step - loss: 0.2246 - acc: 0.9314 - val_loss: 0.6415 - val_acc: 0.8144\n",
      "Epoch 21/50\n",
      "10749/10749 [==============================] - 1s 111us/step - loss: 0.2233 - acc: 0.9314 - val_loss: 0.6774 - val_acc: 0.7891\n",
      "Epoch 22/50\n",
      "10749/10749 [==============================] - 1s 116us/step - loss: 0.2153 - acc: 0.9359 - val_loss: 0.4250 - val_acc: 0.8490\n",
      "Epoch 23/50\n",
      "10749/10749 [==============================] - 1s 113us/step - loss: 0.2010 - acc: 0.9406 - val_loss: 0.3919 - val_acc: 0.8683\n",
      "Epoch 24/50\n",
      "10749/10749 [==============================] - 1s 125us/step - loss: 0.2122 - acc: 0.9351 - val_loss: 0.4055 - val_acc: 0.8702\n",
      "Epoch 25/50\n",
      "10749/10749 [==============================] - 2s 145us/step - loss: 0.1834 - acc: 0.9442 - val_loss: 0.3254 - val_acc: 0.8921\n",
      "Epoch 26/50\n",
      "10749/10749 [==============================] - 2s 182us/step - loss: 0.1646 - acc: 0.9509 - val_loss: 0.7332 - val_acc: 0.7474\n",
      "Epoch 27/50\n",
      "10749/10749 [==============================] - 1s 136us/step - loss: 0.1928 - acc: 0.9440 - val_loss: 0.8525 - val_acc: 0.7418\n",
      "Epoch 28/50\n",
      "10749/10749 [==============================] - 1s 138us/step - loss: 0.1601 - acc: 0.9549 - val_loss: 0.2025 - val_acc: 0.9278\n",
      "Epoch 29/50\n",
      "10749/10749 [==============================] - 1s 120us/step - loss: 0.1519 - acc: 0.9562 - val_loss: 0.3666 - val_acc: 0.8728\n",
      "Epoch 30/50\n",
      "10749/10749 [==============================] - 1s 119us/step - loss: 0.1826 - acc: 0.9463 - val_loss: 0.6044 - val_acc: 0.7954\n",
      "Epoch 31/50\n",
      "10749/10749 [==============================] - 1s 113us/step - loss: 0.1583 - acc: 0.9534 - val_loss: 0.2034 - val_acc: 0.9390\n",
      "Epoch 32/50\n",
      "10749/10749 [==============================] - 1s 113us/step - loss: 0.1682 - acc: 0.9528 - val_loss: 0.2653 - val_acc: 0.9159\n",
      "Epoch 33/50\n",
      "10749/10749 [==============================] - 1s 119us/step - loss: 0.1266 - acc: 0.9638 - val_loss: 0.1886 - val_acc: 0.9297\n",
      "Epoch 34/50\n",
      "10749/10749 [==============================] - 1s 112us/step - loss: 0.1421 - acc: 0.9588 - val_loss: 0.2457 - val_acc: 0.9301\n",
      "Epoch 35/50\n",
      "10749/10749 [==============================] - 1s 114us/step - loss: 0.1798 - acc: 0.9481 - val_loss: 0.3158 - val_acc: 0.9234\n",
      "Epoch 36/50\n",
      "10749/10749 [==============================] - 1s 120us/step - loss: 0.1362 - acc: 0.9641 - val_loss: 0.1925 - val_acc: 0.9412\n",
      "Epoch 37/50\n",
      "10749/10749 [==============================] - 2s 151us/step - loss: 0.1172 - acc: 0.9680 - val_loss: 0.4276 - val_acc: 0.8464\n",
      "Epoch 38/50\n",
      "10749/10749 [==============================] - 1s 125us/step - loss: 0.1534 - acc: 0.9570 - val_loss: 0.3177 - val_acc: 0.8981\n",
      "Epoch 39/50\n",
      "10749/10749 [==============================] - 1s 119us/step - loss: 0.1528 - acc: 0.9570 - val_loss: 0.2490 - val_acc: 0.9368\n",
      "Epoch 40/50\n",
      "10749/10749 [==============================] - 1s 135us/step - loss: 0.1258 - acc: 0.9648 - val_loss: 0.1713 - val_acc: 0.9609\n",
      "Epoch 41/50\n",
      "10749/10749 [==============================] - 1s 117us/step - loss: 0.1144 - acc: 0.9674 - val_loss: 0.4236 - val_acc: 0.8475\n",
      "Epoch 42/50\n",
      "10749/10749 [==============================] - 1s 123us/step - loss: 0.1118 - acc: 0.9680 - val_loss: 0.3147 - val_acc: 0.9092\n",
      "Epoch 43/50\n",
      "10749/10749 [==============================] - 2s 146us/step - loss: 0.1511 - acc: 0.9610 - val_loss: 0.2007 - val_acc: 0.9382\n",
      "Epoch 44/50\n",
      "10749/10749 [==============================] - 1s 127us/step - loss: 0.1056 - acc: 0.9734 - val_loss: 0.1951 - val_acc: 0.9394\n",
      "Epoch 45/50\n",
      "10749/10749 [==============================] - 1s 117us/step - loss: 0.1489 - acc: 0.9607 - val_loss: 0.1162 - val_acc: 0.9688\n",
      "Epoch 46/50\n",
      "10749/10749 [==============================] - 2s 149us/step - loss: 0.1335 - acc: 0.9663 - val_loss: 0.3551 - val_acc: 0.8813\n",
      "Epoch 47/50\n",
      "10749/10749 [==============================] - 2s 140us/step - loss: 0.1172 - acc: 0.9696 - val_loss: 0.1043 - val_acc: 0.9676\n",
      "Epoch 48/50\n",
      "10749/10749 [==============================] - 1s 115us/step - loss: 0.0961 - acc: 0.9749 - val_loss: 0.1929 - val_acc: 0.9431\n",
      "Epoch 49/50\n",
      "10749/10749 [==============================] - 1s 118us/step - loss: 0.1278 - acc: 0.9703 - val_loss: 0.3777 - val_acc: 0.8676\n",
      "Epoch 50/50\n",
      "10749/10749 [==============================] - 1s 119us/step - loss: 0.1274 - acc: 0.9658 - val_loss: 0.1950 - val_acc: 0.9438\n",
      "2153/2153 [==============================] - 0s 42us/step\n"
     ]
    },
    {
     "data": {
      "image/png": "[encoded data removed]",
      "text/plain": [
       "<Figure size 432x288 with 1 Axes>"
      ]
     },
     "metadata": {
      "needs_background": "light"
     },
     "output_type": "display_data"
    }
   ],
   "source": [
    "#Entrenar el modelo\n",
    "history = model.fit(X_train, y_train,\n",
    "          epochs=50,\n",
    "          batch_size=25,\n",
    "         shuffle=True,validation_split=0.2,verbose=1)\n",
    "score = model.evaluate(X_test, y_test, batch_size=25)\n",
    "plt.xlabel('Epocas') \n",
    "plt.ylabel('Pérdida')\n",
    "plt.plot(history.epoch, np.array(history.history['loss']),'b', label='Train Loss')\n",
    "plt.plot(history.epoch, np.array(history.history['val_loss']), 'r', label = 'Val Loss')\n",
    "plt.legend()\n",
    "plt.grid()"
   ]
  },
  {
   "cell_type": "code",
   "execution_count": 29,
   "metadata": {},
   "outputs": [
    {
     "name": "stdout",
     "output_type": "stream",
     "text": [
      "\n",
      "acc: 72.69%\n"
     ]
    }
   ],
   "source": [
    "#model.fit(X_train, y_train,\n",
    "#          epochs=30,\n",
    "#          batch_size=25,\n",
    "#         shuffle=True)\n",
    "#score = model.evaluate(X_test, y_test, batch_size=25)\n",
    "print(\"\\n%s: %.2f%%\" % (model.metrics_names[1], score[1]*100))"
   ]
  },
  {
   "cell_type": "code",
   "execution_count": 30,
   "metadata": {},
   "outputs": [],
   "source": [
    "yTestPredicted = model.predict(X_test)\n",
    "prediccion = yTestPredicted.argmax(axis=1)\n",
    "y_test1 = y_test.argmax(axis=1)"
   ]
  },
  {
   "cell_type": "code",
   "execution_count": 31,
   "metadata": {},
   "outputs": [],
   "source": [
    "y_test1 = encoder.inverse_transform(y_test1)\n",
    "prediccion = encoder.inverse_transform(prediccion)"
   ]
  },
  {
   "cell_type": "code",
   "execution_count": 32,
   "metadata": {},
   "outputs": [
    {
     "data": {
      "text/plain": [
       "((2153,), (2153,))"
      ]
     },
     "execution_count": 32,
     "metadata": {},
     "output_type": "execute_result"
    }
   ],
   "source": [
    "y_test1.shape,prediccion.shape"
   ]
  },
  {
   "cell_type": "code",
   "execution_count": 33,
   "metadata": {},
   "outputs": [
    {
     "name": "stdout",
     "output_type": "stream",
     "text": [
      "-----Métricas------\n",
      "Número de muestras clasificadas correctamente: 1565\n",
      "Exactitud: 0.7268927078495123\n",
      "Balance Accuracy score: 0.6579945043797163\n",
      "Precision: 0.7262784715100079\n",
      "Exhaustividad: 0.7268927078495123\n",
      "F1: 0.7255039473260751\n",
      "-------------------\n",
      "              precision    recall  f1-score   support\n",
      "\n",
      "           1       0.60      0.58      0.59       230\n",
      "           2       0.58      0.66      0.61       311\n",
      "           3       0.63      0.54      0.58       142\n",
      "           4       0.91      0.91      0.91       640\n",
      "           5       0.66      0.60      0.63       151\n",
      "           6       0.62      0.53      0.57       206\n",
      "           7       0.77      0.81      0.79       366\n",
      "           8       0.64      0.65      0.65        63\n",
      "           9       0.62      0.64      0.63        44\n",
      "\n",
      "    accuracy                           0.73      2153\n",
      "   macro avg       0.67      0.66      0.66      2153\n",
      "weighted avg       0.73      0.73      0.73      2153\n",
      "\n"
     ]
    },
    {
     "data": {
      "image/png": "[encoded data removed]",
      "text/plain": [
       "<Figure size 432x288 with 2 Axes>"
      ]
     },
     "metadata": {
      "needs_background": "light"
     },
     "output_type": "display_data"
    }
   ],
   "source": [
    "metricas_modelos('Simple NN, NB',y_test1, prediccion, [1,2,3,4,5,6,7,8,9])"
   ]
  },
  {
   "cell_type": "markdown",
   "metadata": {},
   "source": [
    "### Red Neuronal Convolucional"
   ]
  },
  {
   "cell_type": "code",
   "execution_count": 34,
   "metadata": {},
   "outputs": [
    {
     "name": "stdout",
     "output_type": "stream",
     "text": [
      "(None, 456, 1)\n",
      "(None, 452, 32)\n",
      "(None, 226, 32)\n",
      "(None, 222, 64)\n",
      "(None, 111, 64)\n",
      "(None, 7104)\n",
      "(None, 1000)\n",
      "(None, 9)\n"
     ]
    }
   ],
   "source": [
    "model = Sequential()\n",
    "model.add(Conv1D(kernel_size = 5, strides=1,filters = 32, activation='relu',input_shape=(456,1)))\n",
    "                    \n",
    "print(model.input_shape)\n",
    "print(model.output_shape)\n",
    "\n",
    "model.add(MaxPooling1D(pool_size = (2), strides=(2)))\n",
    "print(model.output_shape)\n",
    "\n",
    "model.add(Conv1D (kernel_size = 5, strides=1, filters = 64, activation='relu'))\n",
    "print(model.output_shape)\n",
    "\n",
    "model.add(MaxPooling1D(pool_size = (2), strides=(2)))\n",
    "print(model.output_shape)\n",
    "\n",
    "model.add(Flatten())\n",
    "\n",
    "print(model.output_shape)\n",
    "\n",
    "model.add(Dense (1000, activation='relu'))\n",
    "print(model.output_shape)\n",
    "\n",
    "model.add(Dense(n_classes, activation = 'softmax'))#,activity_regularizer=keras.regularizers.l2()))\n",
    "print(model.output_shape)\n",
    "\n",
    "#model.compile( loss='categorical_crossentropy', optimizer=keras.optimizers.Adam(lr=0.01), metrics=[keras.metrics.categorical_accuracy])\n",
    "model.compile(loss='categorical_crossentropy', optimizer=keras.optimizers.Adam(lr=0.001),metrics=['accuracy'])"
   ]
  },
  {
   "cell_type": "code",
   "execution_count": 35,
   "metadata": {},
   "outputs": [
    {
     "name": "stdout",
     "output_type": "stream",
     "text": [
      "Model: \"sequential_2\"\n",
      "_________________________________________________________________\n",
      "Layer (type)                 Output Shape              Param #   \n",
      "=================================================================\n",
      "conv1d_1 (Conv1D)            (None, 452, 32)           192       \n",
      "_________________________________________________________________\n",
      "max_pooling1d_1 (MaxPooling1 (None, 226, 32)           0         \n",
      "_________________________________________________________________\n",
      "conv1d_2 (Conv1D)            (None, 222, 64)           10304     \n",
      "_________________________________________________________________\n",
      "max_pooling1d_2 (MaxPooling1 (None, 111, 64)           0         \n",
      "_________________________________________________________________\n",
      "flatten_1 (Flatten)          (None, 7104)              0         \n",
      "_________________________________________________________________\n",
      "dense_4 (Dense)              (None, 1000)              7105000   \n",
      "_________________________________________________________________\n",
      "dense_5 (Dense)              (None, 9)                 9009      \n",
      "=================================================================\n",
      "Total params: 7,124,505\n",
      "Trainable params: 7,124,505\n",
      "Non-trainable params: 0\n",
      "_________________________________________________________________\n"
     ]
    }
   ],
   "source": [
    "model.summary()"
   ]
  },
  {
   "cell_type": "code",
   "execution_count": 36,
   "metadata": {},
   "outputs": [
    {
     "data": {
      "text/plain": [
       "((13437, 456, 1), (13437, 9))"
      ]
     },
     "execution_count": 36,
     "metadata": {},
     "output_type": "execute_result"
    }
   ],
   "source": [
    "X1 = np.expand_dims(X_train, axis=2)\n",
    "X1.shape,y_train.shape"
   ]
  },
  {
   "cell_type": "code",
   "execution_count": 37,
   "metadata": {},
   "outputs": [
    {
     "name": "stdout",
     "output_type": "stream",
     "text": [
      "Train on 10749 samples, validate on 2688 samples\n",
      "Epoch 1/15\n",
      "10749/10749 [==============================] - 71s 7ms/step - loss: 0.9866 - accuracy: 0.6668 - val_loss: 1.6163 - val_accuracy: 0.3932\n",
      "Epoch 2/15\n",
      "10749/10749 [==============================] - 68s 6ms/step - loss: 0.4948 - accuracy: 0.8408 - val_loss: 1.3029 - val_accuracy: 0.4836\n",
      "Epoch 3/15\n",
      "10749/10749 [==============================] - 70s 7ms/step - loss: 0.2586 - accuracy: 0.9235 - val_loss: 0.4832 - val_accuracy: 0.8047\n",
      "Epoch 4/15\n",
      "10749/10749 [==============================] - 68s 6ms/step - loss: 0.1409 - accuracy: 0.9581 - val_loss: 0.3464 - val_accuracy: 0.8828\n",
      "Epoch 5/15\n",
      "10749/10749 [==============================] - 68s 6ms/step - loss: 0.0932 - accuracy: 0.9715 - val_loss: 0.3187 - val_accuracy: 0.8936\n",
      "Epoch 6/15\n",
      "10749/10749 [==============================] - 66s 6ms/step - loss: 0.0647 - accuracy: 0.9818 - val_loss: 0.1871 - val_accuracy: 0.9431\n",
      "Epoch 7/15\n",
      "10749/10749 [==============================] - 68s 6ms/step - loss: 0.0623 - accuracy: 0.9840 - val_loss: 0.1473 - val_accuracy: 0.9475\n",
      "Epoch 8/15\n",
      "10749/10749 [==============================] - 70s 6ms/step - loss: 0.0408 - accuracy: 0.9884 - val_loss: 0.0794 - val_accuracy: 0.9728\n",
      "Epoch 9/15\n",
      "10749/10749 [==============================] - 78s 7ms/step - loss: 0.0344 - accuracy: 0.9918 - val_loss: 0.1080 - val_accuracy: 0.9680\n",
      "Epoch 10/15\n",
      "10749/10749 [==============================] - 70s 7ms/step - loss: 0.0390 - accuracy: 0.9897 - val_loss: 0.0684 - val_accuracy: 0.9781\n",
      "Epoch 11/15\n",
      "10749/10749 [==============================] - 66s 6ms/step - loss: 0.0299 - accuracy: 0.9925 - val_loss: 0.0473 - val_accuracy: 0.9836\n",
      "Epoch 12/15\n",
      "10749/10749 [==============================] - 66s 6ms/step - loss: 0.0357 - accuracy: 0.9924 - val_loss: 0.0869 - val_accuracy: 0.9818\n",
      "Epoch 13/15\n",
      "10749/10749 [==============================] - 68s 6ms/step - loss: 0.0320 - accuracy: 0.9925 - val_loss: 0.1525 - val_accuracy: 0.9557\n",
      "Epoch 14/15\n",
      "10749/10749 [==============================] - 70s 6ms/step - loss: 0.0318 - accuracy: 0.9924 - val_loss: 0.0551 - val_accuracy: 0.9810\n",
      "Epoch 15/15\n",
      "10749/10749 [==============================] - 70s 7ms/step - loss: 0.0372 - accuracy: 0.9904 - val_loss: 0.0445 - val_accuracy: 0.9874\n"
     ]
    },
    {
     "data": {
      "image/png": "[encoded data removed]",
      "text/plain": [
       "<Figure size 432x288 with 1 Axes>"
      ]
     },
     "metadata": {
      "needs_background": "light"
     },
     "output_type": "display_data"
    }
   ],
   "source": [
    "#model.fit(X1, y_train, epochs=15, batch_size=50)\n",
    "#Entrenar el modelo\n",
    "history = model.fit(X1, y_train,\n",
    "          epochs=15,\n",
    "          batch_size=25,\n",
    "         shuffle=True,validation_split=0.2,verbose=1)\n",
    "plt.xlabel('Epocas') \n",
    "plt.ylabel('Pérdida')\n",
    "plt.plot(history.epoch, np.array(history.history['loss']),'b', label='Train Loss')\n",
    "plt.plot(history.epoch, np.array(history.history['val_loss']), 'r', label = 'Val Loss')\n",
    "plt.legend()\n",
    "plt.grid()"
   ]
  },
  {
   "cell_type": "code",
   "execution_count": 38,
   "metadata": {},
   "outputs": [],
   "source": [
    "X2 = np.expand_dims(X_test, axis=2)"
   ]
  },
  {
   "cell_type": "code",
   "execution_count": 39,
   "metadata": {},
   "outputs": [],
   "source": [
    "yTestPredicted = model.predict(X2)\n",
    "prediccion = yTestPredicted.argmax(axis=1)\n",
    "y_test = y_test.argmax(axis=1)"
   ]
  },
  {
   "cell_type": "code",
   "execution_count": 40,
   "metadata": {},
   "outputs": [],
   "source": [
    "y_test = encoder.inverse_transform(y_test)\n",
    "prediccion = encoder.inverse_transform(prediccion)"
   ]
  },
  {
   "cell_type": "code",
   "execution_count": 41,
   "metadata": {},
   "outputs": [
    {
     "data": {
      "text/plain": [
       "((2153,), (2153,))"
      ]
     },
     "execution_count": 41,
     "metadata": {},
     "output_type": "execute_result"
    }
   ],
   "source": [
    "y_test.shape,prediccion.shape"
   ]
  },
  {
   "cell_type": "code",
   "execution_count": 42,
   "metadata": {},
   "outputs": [
    {
     "name": "stdout",
     "output_type": "stream",
     "text": [
      "-----Métricas------\n",
      "Número de muestras clasificadas correctamente: 1545\n",
      "Exactitud: 0.7176033441709243\n",
      "Balance Accuracy score: 0.655181398196501\n",
      "Precision: 0.7195015127093749\n",
      "Exhaustividad: 0.7176033441709243\n",
      "F1: 0.7166736972993573\n",
      "-------------------\n",
      "              precision    recall  f1-score   support\n",
      "\n",
      "           1       0.61      0.67      0.64       230\n",
      "           2       0.60      0.58      0.59       311\n",
      "           3       0.67      0.53      0.59       142\n",
      "           4       0.88      0.93      0.90       640\n",
      "           5       0.63      0.68      0.65       151\n",
      "           6       0.52      0.54      0.53       206\n",
      "           7       0.81      0.72      0.76       366\n",
      "           8       0.53      0.70      0.60        63\n",
      "           9       0.66      0.57      0.61        44\n",
      "\n",
      "    accuracy                           0.72      2153\n",
      "   macro avg       0.66      0.66      0.65      2153\n",
      "weighted avg       0.72      0.72      0.72      2153\n",
      "\n"
     ]
    },
    {
     "data": {
      "image/png": "[encoded data removed]",
      "text/plain": [
       "<Figure size 432x288 with 2 Axes>"
      ]
     },
     "metadata": {
      "needs_background": "light"
     },
     "output_type": "display_data"
    }
   ],
   "source": [
    "metricas_modelos('CNN, NB',y_test, prediccion, [1,2,3,4,5,6,7,8,9])"
   ]
  },
  {
   "cell_type": "markdown",
   "metadata": {},
   "source": [
    "## Conclusión"
   ]
  },
  {
   "cell_type": "code",
   "execution_count": 43,
   "metadata": {},
   "outputs": [],
   "source": [
    "resultados = pd.DataFrame({'Modelo':l_modelo,'Exactitud': l_exactitud, 'Exactitud Bal.': l_bexactitud,\n",
    "             'Precisión':l_precision,'Exhaustividad': l_exhaustividad, 'F1': l_f1})"
   ]
  },
  {
   "cell_type": "code",
   "execution_count": 44,
   "metadata": {},
   "outputs": [
    {
     "data": {
      "text/html": [
       "<div>\n",
       "<style scoped>\n",
       "    .dataframe tbody tr th:only-of-type {\n",
       "        vertical-align: middle;\n",
       "    }\n",
       "\n",
       "    .dataframe tbody tr th {\n",
       "        vertical-align: top;\n",
       "    }\n",
       "\n",
       "    .dataframe thead th {\n",
       "        text-align: right;\n",
       "    }\n",
       "</style>\n",
       "<table border=\"1\" class=\"dataframe\">\n",
       "  <thead>\n",
       "    <tr style=\"text-align: right;\">\n",
       "      <th></th>\n",
       "      <th>Modelo</th>\n",
       "      <th>Exactitud</th>\n",
       "      <th>Exactitud Bal.</th>\n",
       "      <th>Precisión</th>\n",
       "      <th>Exhaustividad</th>\n",
       "      <th>F1</th>\n",
       "    </tr>\n",
       "  </thead>\n",
       "  <tbody>\n",
       "    <tr>\n",
       "      <th>0</th>\n",
       "      <td>Simple NN, NB</td>\n",
       "      <td>72.69</td>\n",
       "      <td>65.80</td>\n",
       "      <td>72.63</td>\n",
       "      <td>72.69</td>\n",
       "      <td>72.55</td>\n",
       "    </tr>\n",
       "    <tr>\n",
       "      <th>1</th>\n",
       "      <td>CNN, NB</td>\n",
       "      <td>71.76</td>\n",
       "      <td>65.52</td>\n",
       "      <td>71.95</td>\n",
       "      <td>71.76</td>\n",
       "      <td>71.67</td>\n",
       "    </tr>\n",
       "  </tbody>\n",
       "</table>\n",
       "</div>"
      ],
      "text/plain": [
       "          Modelo  Exactitud  Exactitud Bal.  Precisión  Exhaustividad     F1\n",
       "0  Simple NN, NB      72.69           65.80      72.63          72.69  72.55\n",
       "1        CNN, NB      71.76           65.52      71.95          71.76  71.67"
      ]
     },
     "execution_count": 44,
     "metadata": {},
     "output_type": "execute_result"
    }
   ],
   "source": [
    "resultados.round(2)"
   ]
  },
  {
   "cell_type": "markdown",
   "metadata": {},
   "source": [
    "Podemos concluir que los resultados obtenidos con ambos modelos y tenieno en cuenta ***solo*** la infromación espectral y temporal de las imágenes, sin tener en cuenta ínidces de vegetación se pueden considerar bastante bueno. Es parejo el resultado obtenido con ambos modelos.\n",
    "\n",
    "Podemos decir que obtenemos de manera general mejores resultado con la Red Neuronal Simple tanto balancenado los datos o sin hacerlo.Mirando la tablas de las métricas y la tabla de confusión de cada ejecución, podemos concluir que si bien obtenemos mejores resultados cuando entrenamos con clases ***desbalanceadas***, es importante destacar que cuando ***balanceamos las clases***, en el caso de Red Neuronal Simple, para la clase minoritaria mejoran todas las métricas. En cambio para la Red Neuronal Convolucional es impercetible la mejora, inclusive podemos decir que una vez balanceados los datos de entrenamiento para la clase minoritaria, se nota una desmejora en la generalización del modelo. "
   ]
  },
  {
   "cell_type": "code",
   "execution_count": null,
   "metadata": {},
   "outputs": [],
   "source": []
  }
 ],
 "metadata": {
  "kernelspec": {
   "display_name": "Python 3",
   "language": "python",
   "name": "python3"
  },
  "language_info": {
   "codemirror_mode": {
    "name": "ipython",
    "version": 3
   },
   "file_extension": ".py",
   "mimetype": "text/x-python",
   "name": "python",
   "nbconvert_exporter": "python",
   "pygments_lexer": "ipython3",
   "version": "3.7.7"
  }
 },
 "nbformat": 4,
 "nbformat_minor": 2
}
